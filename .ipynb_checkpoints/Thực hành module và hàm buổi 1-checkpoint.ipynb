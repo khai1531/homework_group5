{
 "cells": [
  {
   "cell_type": "markdown",
   "id": "a2a38651",
   "metadata": {},
   "source": [
    "## Bài 1:\n",
    "Viết hàm my_info() nhận vào 2 tham số `name` và `course`, sau đó in ra thông tin tương ứng. Ví dụ: \n",
    "```\n",
    "my_info('Long', 'Python')\n",
    "\n",
    "Output: \n",
    "My name is Long.\n",
    "I'm studying Python.\n",
    "```"
   ]
  },
  {
   "cell_type": "code",
   "execution_count": null,
   "id": "392f869d",
   "metadata": {},
   "outputs": [],
   "source": [
    "def my_info(...parameter here...):\n",
    "    # code below this line\n",
    "    pass\n",
    "    # code above this line\n",
    "    \n",
    "my_info('Long', 'Python')"
   ]
  },
  {
   "cell_type": "markdown",
   "id": "7390cb06",
   "metadata": {},
   "source": [
    "## Bài 2:\n",
    "Viết hàm sum_even() nhận vào một số `n` và in ra tổng các số chẵn từ 2 đến n.\n",
    "Ví dụ:\n",
    "```\n",
    "sum_even(10)\n",
    "\n",
    "Output:\n",
    "30\n",
    "```"
   ]
  },
  {
   "cell_type": "code",
   "execution_count": null,
   "id": "df52dd4b",
   "metadata": {},
   "outputs": [],
   "source": [
    "def sum_even(...parameter here...):\n",
    "    # code below this line\n",
    "    pass\n",
    "    # code above this line\n",
    "\n",
    "sum_even(10)"
   ]
  },
  {
   "cell_type": "markdown",
   "id": "0f69e7f2",
   "metadata": {},
   "source": [
    "## Bài 3:\n",
    "Viết hàm easy_math() nhận vào 3 tham số `num1`, `op`, `num 2` để thực hiện phép tính tương ứng và in ra kết quả. \n",
    "Ví dụ:\n",
    "```\n",
    "easy_math(5, '+', 5)\n",
    "\n",
    "Output:\n",
    "10\n",
    "```\n"
   ]
  },
  {
   "cell_type": "code",
   "execution_count": null,
   "id": "ce6058ca",
   "metadata": {},
   "outputs": [],
   "source": [
    "def easy_math(...parameter here...):\n",
    "    # code below this line\n",
    "    pass\n",
    "    # code above this line\n",
    "\n",
    "easy_math(5, '+', 5)"
   ]
  },
  {
   "cell_type": "markdown",
   "id": "3239a01d",
   "metadata": {},
   "source": [
    "## Bài 4:\n",
    "Viết hàm check_even() nhận vào tham số `number` và kiểm tra xem `number` có phải là số chẵn hay không.\n",
    "Ví dụ:\n",
    "```\n",
    "check_even(5)\n",
    "\n",
    "Output:\n",
    "5 là số lẻ\n",
    "```"
   ]
  },
  {
   "cell_type": "code",
   "execution_count": null,
   "id": "f6a0918a",
   "metadata": {},
   "outputs": [],
   "source": [
    "def check_even(...parameter here...):\n",
    "    # code below this line\n",
    "    pass\n",
    "    # code above this line\n",
    "\n",
    "check_even(5)"
   ]
  },
  {
   "cell_type": "markdown",
   "id": "27a4bd3b",
   "metadata": {},
   "source": [
    "## Bài 5:\n",
    "Viết hàm transform_str() nhận vào tham số `string` và in ra `string` ở dạng uppercase và lowercase. Ví dụ:\n",
    "```\n",
    "transform_str('Function Is Magic!')\n",
    "\n",
    "Output:\n",
    "Lowercase: function is magic!\n",
    "Uppercase: FUNCTION IS MAGIC!\n",
    "```"
   ]
  },
  {
   "cell_type": "code",
   "execution_count": 1,
   "id": "ae2891a8",
   "metadata": {},
   "outputs": [
    {
     "name": "stdout",
     "output_type": "stream",
     "text": [
      "Lowercase: function is magic!\n",
      "Uppercase: FUNCTION IS MAGIC!\n"
     ]
    }
   ],
   "source": [
    "def transform_str(string):\n",
    "    # code below this line\n",
    "    print(\"Lowercase:\", string.lower())\n",
    "    print(\"Uppercase:\", string.upper())\n",
    "    pass\n",
    "    # code above this line\n",
    "\n",
    "transform_str('Function Is Magic!')"
   ]
  },
  {
   "cell_type": "markdown",
   "id": "163331db",
   "metadata": {},
   "source": [
    "## Bài 6:\n",
    "Viết hàm calculate_factorial() nhận vào tham số `number` và in ra giai thừa của tham số đó. Ví dụ:\n",
    "```\n",
    "calculate_factorial(5)\n",
    "\n",
    "Output: 120\n",
    "```"
   ]
  },
  {
   "cell_type": "code",
   "execution_count": 2,
   "id": "0047ec9d",
   "metadata": {},
   "outputs": [
    {
     "name": "stdout",
     "output_type": "stream",
     "text": [
      "Giai thừa của 5 là: 120\n"
     ]
    }
   ],
   "source": [
    "def calculate_factorial(number):\n",
    "    # code below this line\n",
    "    factorial = 1\n",
    "    if number == 0:\n",
    "        print(\"Giai thừa của 0 là 1.\")\n",
    "    else:\n",
    "        for i in range(1, number + 1):\n",
    "            factorial *= i\n",
    "        print(\"Giai thừa của\", number, \"là:\", factorial)\n",
    "    pass\n",
    "    # code above this line\n",
    "\n",
    "calculate_factorial(5)"
   ]
  },
  {
   "cell_type": "markdown",
   "id": "6d381154",
   "metadata": {},
   "source": [
    "## Bài 7:\n",
    "Dãy Fibonacci là dãy vô hạn các số tự nhiên bắt đầu bằng 1 và 1, sau đó các số tiếp theo sẽ bằng tổng của 2 số liền trước nó. \n",
    "\n",
    "Cụ thể, các số đầu tiên của dãy Fibonacci là 1, 1, 2, 3, 5, 8, 13, 21, 34, 55, 89, 144, 233, 377, 610... \n",
    "\n",
    "Nhiệm vụ: Viết chương trình find_fibo() nhận vào tham số `index` và in ra số Fibonacci ở vị trí `index`. Nếu `index` bằng 0 thì in ra 0. Ví dụ:\n",
    "\n",
    "```\n",
    "find_fibo(1)\n",
    "\n",
    "Output:\n",
    "1\n",
    "```\n",
    "-------------------\n",
    "```\n",
    "find_fibo(6)\n",
    "\n",
    "Output:\n",
    "8\n",
    "```\n",
    "-------------------\n",
    "```\n",
    "find_fibo(0)\n",
    "\n",
    "Output:\n",
    "0\n",
    "```"
   ]
  },
  {
   "cell_type": "code",
   "execution_count": 4,
   "id": "0b8b2dc3",
   "metadata": {},
   "outputs": [
    {
     "name": "stdout",
     "output_type": "stream",
     "text": [
      "1\n",
      "8\n",
      "0\n"
     ]
    }
   ],
   "source": [
    "def find_fibo(index):\n",
    "    # code below this line\n",
    "    if index == 0:\n",
    "        print(\"0\")\n",
    "    elif index == 1:\n",
    "        print(\"1\")\n",
    "    else:\n",
    "        fibo_prev = 0\n",
    "        fibo_current = 1\n",
    "        for _ in range(2, index + 1):\n",
    "            fibo_next = fibo_prev + fibo_current\n",
    "            fibo_prev, fibo_current = fibo_current, fibo_next\n",
    "        print(fibo_current)\n",
    "    pass\n",
    "    # code above this line\n",
    "\n",
    "find_fibo(1)\n",
    "find_fibo(6)\n",
    "find_fibo(0)"
   ]
  },
  {
   "cell_type": "markdown",
   "id": "65db4551",
   "metadata": {},
   "source": [
    "## Bài 8:\n",
    "Viết hàm find_divisors() nhận vào một số nguyên dương `number` và in ra tất cả các ước của `number`. Ví dụ:\n",
    "```\n",
    "find_divisors(24)\n",
    "\n",
    "Output:\n",
    "Ước của 24 là: 1, 2, 3, 4, 6, 8, 12, 24\n",
    "```"
   ]
  },
  {
   "cell_type": "code",
   "execution_count": 12,
   "id": "d9b20c10",
   "metadata": {},
   "outputs": [
    {
     "name": "stdin",
     "output_type": "stream",
     "text": [
      "Please input n:  100\n"
     ]
    },
    {
     "name": "stdout",
     "output_type": "stream",
     "text": [
      "1\n",
      "2\n",
      "4\n",
      "5\n",
      "10\n",
      "20\n",
      "25\n",
      "50\n",
      "100\n"
     ]
    }
   ],
   "source": [
    "def find_divisors(n):\n",
    "    for i in range (1, n + 1):\n",
    "        if n % i == 0:\n",
    "            print(i)\n",
    "n = int(input(\"Please input n: \"))\n",
    "find_divisors(n)"
   ]
  },
  {
   "cell_type": "markdown",
   "id": "37000ab2",
   "metadata": {},
   "source": [
    "## Bài 9:\n",
    "Viết hàm solve_equation() để giải phương trình bậc nhất ax + b = 0 với `a` và `b` là 2 tham số đầu vào. Ví dụ:\n",
    "```\n",
    "solve_equation(2, -4)\n",
    "\n",
    "Output: \n",
    "x = 2\n",
    "```\n",
    "---\n",
    "```\n",
    "solve_equation(0, 0)\n",
    "\n",
    "Output: \n",
    "Phương trình vô số nghiệm\n",
    "```\n",
    "---\n",
    "```\n",
    "solve_equation(0, -4)\n",
    "\n",
    "Output: \n",
    "Phương trình vô nghiệm\n",
    "```"
   ]
  },
  {
   "cell_type": "code",
   "execution_count": 20,
   "id": "abfc5589",
   "metadata": {},
   "outputs": [
    {
     "name": "stdin",
     "output_type": "stream",
     "text": [
      "Please input a:  2\n",
      "Please input b:  -4\n"
     ]
    },
    {
     "name": "stdout",
     "output_type": "stream",
     "text": [
      "2.0\n"
     ]
    }
   ],
   "source": [
    "def solve_equation():\n",
    "    if a == 0 and b == 0:\n",
    "        print(\"Phương trình vô số nghiệm\")\n",
    "    elif a == 0:\n",
    "        print(\"Phương trình vô nghiệm\")\n",
    "    else:\n",
    "        x = -b/a\n",
    "        print(x)\n",
    "a = int(input(\"Please input a: \"))\n",
    "b = int(input(\"Please input b: \"))\n",
    "solve_equation()"
   ]
  },
  {
   "cell_type": "markdown",
   "id": "a483ed69",
   "metadata": {},
   "source": [
    "## Bài 10:\n",
    "Viết hàm find_distance() nhận vào 4 tham số `x1`, `y1`, `x2`, `y2` là tọa độ của 2 điểm trên trục tọa độ và in ra khoảng cách của 2 điểm đó theo công thức:\n",
    "```\n",
    "distance = sqrt((x1-x2)^2 + (y1-y2)^2)\n",
    "```\n",
    "Tham khảo: https://toanthaydinh.com/cong-thuc-tinh-khoang-cach-giua-2-diem/\n",
    "Khoảng cách được làm tròn 2 chữ số thập phân.\n",
    "\n",
    "Ví dụ:\n",
    "```\n",
    "find_distance(5, 2, 1, 3)\n",
    "\n",
    "Output:\n",
    "4.12\n",
    "```"
   ]
  },
  {
   "cell_type": "code",
   "execution_count": 27,
   "id": "2dcf614e",
   "metadata": {},
   "outputs": [
    {
     "name": "stdin",
     "output_type": "stream",
     "text": [
      "Please input x1:  5\n",
      "Please input y1:  2\n",
      "Please input x2:  1\n",
      "Please input y2:  3\n"
     ]
    },
    {
     "name": "stdout",
     "output_type": "stream",
     "text": [
      "Distance is: 4.12\n"
     ]
    }
   ],
   "source": [
    "import math\n",
    "def find_distance():\n",
    "    distance = math.sqrt((x2 - x1) ** 2 + (y2 - y1) ** 2)\n",
    "    rounded_distance = round(distance, 2)\n",
    "    print(f\"Distance is: {rounded_distance}\")\n",
    "x1 = int(input(\"Please input x1: \"))\n",
    "y1 = int(input(\"Please input y1: \"))\n",
    "x2 = int(input(\"Please input x2: \"))\n",
    "y2 = int(input(\"Please input y2: \"))\n",
    "find_distance()"
   ]
  },
  {
   "cell_type": "markdown",
   "id": "6236743e",
   "metadata": {},
   "source": [
    "## Bài 11(bonus):\n",
    "Viết hàm test_password() nhận vào một chuỗi(xem như là mật khẩu của người dùng).\n",
    "Sau đó kiểm tra xem đây có phải là mật khẩu mạnh hay không theo quy tắc sau:\n",
    "- Mật khẩu mạnh là mật khẩu phải có ít nhất 1 chữ hoa, 1 chữ thường, 1 số và 1 ký tự đặc biệt"
   ]
  },
  {
   "cell_type": "code",
   "execution_count": 28,
   "id": "b24922e7",
   "metadata": {},
   "outputs": [
    {
     "name": "stdin",
     "output_type": "stream",
     "text": [
      "Nhap mat khau:  khaiK13\n"
     ]
    },
    {
     "ename": "NameError",
     "evalue": "name 'A' is not defined",
     "output_type": "error",
     "traceback": [
      "\u001b[1;31m---------------------------------------------------------------------------\u001b[0m",
      "\u001b[1;31mNameError\u001b[0m                                 Traceback (most recent call last)",
      "Cell \u001b[1;32mIn[28], line 13\u001b[0m\n\u001b[0;32m     11\u001b[0m         \u001b[38;5;28mprint\u001b[39m(\u001b[38;5;124m\"\u001b[39m\u001b[38;5;124mMat khau yeu\u001b[39m\u001b[38;5;124m\"\u001b[39m)\n\u001b[0;32m     12\u001b[0m passwprd \u001b[38;5;241m=\u001b[39m \u001b[38;5;28minput\u001b[39m(\u001b[38;5;124m\"\u001b[39m\u001b[38;5;124mNhap mat khau: \u001b[39m\u001b[38;5;124m\"\u001b[39m)\n\u001b[1;32m---> 13\u001b[0m test_password(passwprd)\n",
      "Cell \u001b[1;32mIn[28], line 4\u001b[0m, in \u001b[0;36mtest_password\u001b[1;34m(password)\u001b[0m\n\u001b[0;32m      2\u001b[0m \u001b[38;5;28;01mdef\u001b[39;00m \u001b[38;5;21mtest_password\u001b[39m(password):\n\u001b[0;32m      3\u001b[0m     password \u001b[38;5;241m=\u001b[39m \u001b[38;5;241m0\u001b[39m\n\u001b[1;32m----> 4\u001b[0m     regex \u001b[38;5;241m=\u001b[39m [A\u001b[38;5;241m-\u001b[39mZ]\u001b[38;5;241m+\u001b[39m[a\u001b[38;5;241m-\u001b[39mz]\u001b[38;5;241m+\u001b[39m[\u001b[38;5;241m0\u001b[39m\u001b[38;5;241m-\u001b[39m\u001b[38;5;241m9\u001b[39m]\n\u001b[0;32m      5\u001b[0m     is_valid \u001b[38;5;241m=\u001b[39m re\u001b[38;5;241m.\u001b[39msearch(regex, password)\n\u001b[0;32m      6\u001b[0m     \u001b[38;5;28;01mif\u001b[39;00m is_valid:\n",
      "\u001b[1;31mNameError\u001b[0m: name 'A' is not defined"
     ]
    }
   ],
   "source": [
    "import re\n",
    "def test_password(password):\n",
    "    password = 0\n",
    "    regex = r\"[A-Z]+[a-z]+[0-9]\"\n",
    "    is_valid = re.search(regex, password)\n",
    "    if is_valid:\n",
    "        return True\n",
    "        print(\"Mat khau manh\")\n",
    "    else:\n",
    "        return False\n",
    "        print(\"Mat khau yeu\")\n",
    "passwprd = input(\"Nhap mat khau: \")\n",
    "test_password(passwprd)"
   ]
  }
 ],
 "metadata": {
  "kernelspec": {
   "display_name": "Python 3 (ipykernel)",
   "language": "python",
   "name": "python3"
  },
  "language_info": {
   "codemirror_mode": {
    "name": "ipython",
    "version": 3
   },
   "file_extension": ".py",
   "mimetype": "text/x-python",
   "name": "python",
   "nbconvert_exporter": "python",
   "pygments_lexer": "ipython3",
   "version": "3.12.3"
  }
 },
 "nbformat": 4,
 "nbformat_minor": 5
}
